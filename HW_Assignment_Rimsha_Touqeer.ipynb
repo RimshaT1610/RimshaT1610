{
  "nbformat": 4,
  "nbformat_minor": 0,
  "metadata": {
    "colab": {
      "provenance": [],
      "authorship_tag": "ABX9TyPZPdsP1UwX9z08CPMiZKk+",
      "include_colab_link": true
    },
    "kernelspec": {
      "name": "python3",
      "display_name": "Python 3"
    },
    "language_info": {
      "name": "python"
    }
  },
  "cells": [
    {
      "cell_type": "markdown",
      "metadata": {
        "id": "view-in-github",
        "colab_type": "text"
      },
      "source": [
        "<a href=\"https://colab.research.google.com/github/RimshaT1610/RimshaT1610/blob/main/HW_Assignment_Rimsha_Touqeer.ipynb\" target=\"_parent\"><img src=\"https://colab.research.google.com/assets/colab-badge.svg\" alt=\"Open In Colab\"/></a>"
      ]
    },
    {
      "cell_type": "markdown",
      "source": [
        "❓Predict House Prices Using a Neural Network\n",
        "\n",
        "**Objective**:\n",
        "Your task is to build a neural network to predict house prices based on features like:\n",
        "1.\tNumber of bedrooms.\n",
        "2.\tSize of the house (square feet).\n",
        "3.\tAge of the house (years).\n",
        "\n"
      ],
      "metadata": {
        "id": "m7OZGYlRlQ6o"
      }
    },
    {
      "cell_type": "code",
      "execution_count": 1,
      "metadata": {
        "id": "fB87mvuGAIax"
      },
      "outputs": [],
      "source": [
        "# Import dependencies\n",
        "import tensorflow as tf\n",
        "import pandas as pd\n",
        "import numpy as np\n",
        "import matplotlib.pyplot as plt\n",
        "from sklearn.model_selection import train_test_split\n"
      ]
    },
    {
      "cell_type": "code",
      "source": [
        "# Step 1: Load the dataset\n",
        "from google.colab import files\n",
        "uploaded = files.upload()  # Upload the Excel file (house_data.xlsx)\n"
      ],
      "metadata": {
        "colab": {
          "base_uri": "https://localhost:8080/",
          "height": 73
        },
        "id": "a_zQuz55AXQ5",
        "outputId": "9124b4ea-8daf-48e6-fc18-e82001508635"
      },
      "execution_count": 2,
      "outputs": [
        {
          "output_type": "display_data",
          "data": {
            "text/plain": [
              "<IPython.core.display.HTML object>"
            ],
            "text/html": [
              "\n",
              "     <input type=\"file\" id=\"files-a36b9eb3-a35f-454a-8a4c-bdb7d7df9c91\" name=\"files[]\" multiple disabled\n",
              "        style=\"border:none\" />\n",
              "     <output id=\"result-a36b9eb3-a35f-454a-8a4c-bdb7d7df9c91\">\n",
              "      Upload widget is only available when the cell has been executed in the\n",
              "      current browser session. Please rerun this cell to enable.\n",
              "      </output>\n",
              "      <script>// Copyright 2017 Google LLC\n",
              "//\n",
              "// Licensed under the Apache License, Version 2.0 (the \"License\");\n",
              "// you may not use this file except in compliance with the License.\n",
              "// You may obtain a copy of the License at\n",
              "//\n",
              "//      http://www.apache.org/licenses/LICENSE-2.0\n",
              "//\n",
              "// Unless required by applicable law or agreed to in writing, software\n",
              "// distributed under the License is distributed on an \"AS IS\" BASIS,\n",
              "// WITHOUT WARRANTIES OR CONDITIONS OF ANY KIND, either express or implied.\n",
              "// See the License for the specific language governing permissions and\n",
              "// limitations under the License.\n",
              "\n",
              "/**\n",
              " * @fileoverview Helpers for google.colab Python module.\n",
              " */\n",
              "(function(scope) {\n",
              "function span(text, styleAttributes = {}) {\n",
              "  const element = document.createElement('span');\n",
              "  element.textContent = text;\n",
              "  for (const key of Object.keys(styleAttributes)) {\n",
              "    element.style[key] = styleAttributes[key];\n",
              "  }\n",
              "  return element;\n",
              "}\n",
              "\n",
              "// Max number of bytes which will be uploaded at a time.\n",
              "const MAX_PAYLOAD_SIZE = 100 * 1024;\n",
              "\n",
              "function _uploadFiles(inputId, outputId) {\n",
              "  const steps = uploadFilesStep(inputId, outputId);\n",
              "  const outputElement = document.getElementById(outputId);\n",
              "  // Cache steps on the outputElement to make it available for the next call\n",
              "  // to uploadFilesContinue from Python.\n",
              "  outputElement.steps = steps;\n",
              "\n",
              "  return _uploadFilesContinue(outputId);\n",
              "}\n",
              "\n",
              "// This is roughly an async generator (not supported in the browser yet),\n",
              "// where there are multiple asynchronous steps and the Python side is going\n",
              "// to poll for completion of each step.\n",
              "// This uses a Promise to block the python side on completion of each step,\n",
              "// then passes the result of the previous step as the input to the next step.\n",
              "function _uploadFilesContinue(outputId) {\n",
              "  const outputElement = document.getElementById(outputId);\n",
              "  const steps = outputElement.steps;\n",
              "\n",
              "  const next = steps.next(outputElement.lastPromiseValue);\n",
              "  return Promise.resolve(next.value.promise).then((value) => {\n",
              "    // Cache the last promise value to make it available to the next\n",
              "    // step of the generator.\n",
              "    outputElement.lastPromiseValue = value;\n",
              "    return next.value.response;\n",
              "  });\n",
              "}\n",
              "\n",
              "/**\n",
              " * Generator function which is called between each async step of the upload\n",
              " * process.\n",
              " * @param {string} inputId Element ID of the input file picker element.\n",
              " * @param {string} outputId Element ID of the output display.\n",
              " * @return {!Iterable<!Object>} Iterable of next steps.\n",
              " */\n",
              "function* uploadFilesStep(inputId, outputId) {\n",
              "  const inputElement = document.getElementById(inputId);\n",
              "  inputElement.disabled = false;\n",
              "\n",
              "  const outputElement = document.getElementById(outputId);\n",
              "  outputElement.innerHTML = '';\n",
              "\n",
              "  const pickedPromise = new Promise((resolve) => {\n",
              "    inputElement.addEventListener('change', (e) => {\n",
              "      resolve(e.target.files);\n",
              "    });\n",
              "  });\n",
              "\n",
              "  const cancel = document.createElement('button');\n",
              "  inputElement.parentElement.appendChild(cancel);\n",
              "  cancel.textContent = 'Cancel upload';\n",
              "  const cancelPromise = new Promise((resolve) => {\n",
              "    cancel.onclick = () => {\n",
              "      resolve(null);\n",
              "    };\n",
              "  });\n",
              "\n",
              "  // Wait for the user to pick the files.\n",
              "  const files = yield {\n",
              "    promise: Promise.race([pickedPromise, cancelPromise]),\n",
              "    response: {\n",
              "      action: 'starting',\n",
              "    }\n",
              "  };\n",
              "\n",
              "  cancel.remove();\n",
              "\n",
              "  // Disable the input element since further picks are not allowed.\n",
              "  inputElement.disabled = true;\n",
              "\n",
              "  if (!files) {\n",
              "    return {\n",
              "      response: {\n",
              "        action: 'complete',\n",
              "      }\n",
              "    };\n",
              "  }\n",
              "\n",
              "  for (const file of files) {\n",
              "    const li = document.createElement('li');\n",
              "    li.append(span(file.name, {fontWeight: 'bold'}));\n",
              "    li.append(span(\n",
              "        `(${file.type || 'n/a'}) - ${file.size} bytes, ` +\n",
              "        `last modified: ${\n",
              "            file.lastModifiedDate ? file.lastModifiedDate.toLocaleDateString() :\n",
              "                                    'n/a'} - `));\n",
              "    const percent = span('0% done');\n",
              "    li.appendChild(percent);\n",
              "\n",
              "    outputElement.appendChild(li);\n",
              "\n",
              "    const fileDataPromise = new Promise((resolve) => {\n",
              "      const reader = new FileReader();\n",
              "      reader.onload = (e) => {\n",
              "        resolve(e.target.result);\n",
              "      };\n",
              "      reader.readAsArrayBuffer(file);\n",
              "    });\n",
              "    // Wait for the data to be ready.\n",
              "    let fileData = yield {\n",
              "      promise: fileDataPromise,\n",
              "      response: {\n",
              "        action: 'continue',\n",
              "      }\n",
              "    };\n",
              "\n",
              "    // Use a chunked sending to avoid message size limits. See b/62115660.\n",
              "    let position = 0;\n",
              "    do {\n",
              "      const length = Math.min(fileData.byteLength - position, MAX_PAYLOAD_SIZE);\n",
              "      const chunk = new Uint8Array(fileData, position, length);\n",
              "      position += length;\n",
              "\n",
              "      const base64 = btoa(String.fromCharCode.apply(null, chunk));\n",
              "      yield {\n",
              "        response: {\n",
              "          action: 'append',\n",
              "          file: file.name,\n",
              "          data: base64,\n",
              "        },\n",
              "      };\n",
              "\n",
              "      let percentDone = fileData.byteLength === 0 ?\n",
              "          100 :\n",
              "          Math.round((position / fileData.byteLength) * 100);\n",
              "      percent.textContent = `${percentDone}% done`;\n",
              "\n",
              "    } while (position < fileData.byteLength);\n",
              "  }\n",
              "\n",
              "  // All done.\n",
              "  yield {\n",
              "    response: {\n",
              "      action: 'complete',\n",
              "    }\n",
              "  };\n",
              "}\n",
              "\n",
              "scope.google = scope.google || {};\n",
              "scope.google.colab = scope.google.colab || {};\n",
              "scope.google.colab._files = {\n",
              "  _uploadFiles,\n",
              "  _uploadFilesContinue,\n",
              "};\n",
              "})(self);\n",
              "</script> "
            ]
          },
          "metadata": {}
        },
        {
          "output_type": "stream",
          "name": "stdout",
          "text": [
            "Saving house_data.xlsx to house_data.xlsx\n"
          ]
        }
      ]
    },
    {
      "cell_type": "code",
      "source": [
        "# Load the Excel file into a DataFrame\n",
        "df = pd.read_excel('house_data.xlsx')\n",
        "print(df.head())  # Display the first few rows of the dataset\n"
      ],
      "metadata": {
        "id": "vFUuRG7wAagN",
        "colab": {
          "base_uri": "https://localhost:8080/"
        },
        "outputId": "84648bec-c767-4af9-aa61-467f7d14f6be"
      },
      "execution_count": 3,
      "outputs": [
        {
          "output_type": "stream",
          "name": "stdout",
          "text": [
            "   bedrooms  size  age   price\n",
            "0         4  1348   57  144096\n",
            "1         3  4067   93  929638\n",
            "2         4   595   57  562650\n",
            "3         5  1187   21  253945\n",
            "4         3  2526   73  161467\n"
          ]
        }
      ]
    },
    {
      "cell_type": "code",
      "source": [
        "# Split the data into features (X) and target (y)\n",
        "X = df[['bedrooms', 'size', 'age']].values\n",
        "y = df['price'].values\n",
        "\n",
        "# Split the data into training and testing sets\n",
        "X_train, X_test, y_train, y_test = train_test_split(X, y, test_size=0.2, random_state=42)"
      ],
      "metadata": {
        "id": "whNHdDViAc99"
      },
      "execution_count": 4,
      "outputs": []
    },
    {
      "cell_type": "code",
      "source": [
        "# Step 2: Build the neural network\n",
        "# model = tf.keras.Sequential([\n",
        "#     tf.keras.layers.Dense(units=8, activation='relu', input_shape=[3]),  # Hidden layer with 8 neurons\n",
        "#     tf.keras.layers.Dense(units=1)  # Output layer with 1 neuron\n",
        "# ])\n",
        "\n",
        "# model = tf.keras.Sequential([\n",
        "#     tf.keras.layers.Dense(units=16, activation='relu', input_shape=[3]),  # Increased from 8 to 16 neurons\n",
        "#     tf.keras.layers.Dense(units=1)\n",
        "# ])\n",
        "\n",
        "model = tf.keras.Sequential([\n",
        "    tf.keras.layers.Dense(units=8, activation='relu', input_shape=[3]),  # First hidden layer\n",
        "    tf.keras.layers.Dense(units=4, activation='relu'),  # Second hidden layer with 4 neurons\n",
        "    tf.keras.layers.Dense(units=1)\n",
        "])\n"
      ],
      "metadata": {
        "id": "etl6BpK-Anyf"
      },
      "execution_count": 11,
      "outputs": []
    },
    {
      "cell_type": "code",
      "source": [
        "# Compile the model\n",
        "model.compile(optimizer=tf.keras.optimizers.Adam(0.01), loss='mean_squared_error')\n"
      ],
      "metadata": {
        "id": "SYny2u55Ari9"
      },
      "execution_count": 12,
      "outputs": []
    },
    {
      "cell_type": "code",
      "source": [
        "# Step 3: Train the model\n",
        "history = model.fit(X_train, y_train, epochs=500, verbose=False)\n",
        "print(\"Model training complete!\")\n"
      ],
      "metadata": {
        "id": "G19cBCr5Atr3",
        "colab": {
          "base_uri": "https://localhost:8080/"
        },
        "outputId": "7ae70942-2af4-4186-fba5-2fec3616f5bd"
      },
      "execution_count": 13,
      "outputs": [
        {
          "output_type": "stream",
          "name": "stdout",
          "text": [
            "Model training complete!\n"
          ]
        }
      ]
    },
    {
      "cell_type": "code",
      "source": [
        "# Step 4: Evaluate the model\n",
        "# Plot training loss\n",
        "plt.plot(history.history['loss'])\n",
        "plt.xlabel('Epochs')\n",
        "plt.ylabel('Loss')\n",
        "plt.title('Training Loss Over Time')\n",
        "plt.show()\n"
      ],
      "metadata": {
        "id": "LdrZhfLuAv7x",
        "colab": {
          "base_uri": "https://localhost:8080/",
          "height": 472
        },
        "outputId": "03f05feb-a306-45e9-aa0f-ca351ca50799"
      },
      "execution_count": 14,
      "outputs": [
        {
          "output_type": "display_data",
          "data": {
            "text/plain": [
              "<Figure size 640x480 with 1 Axes>"
            ],
            "image/png": "[encoded data removed]"
          },
          "metadata": {}
        }
      ]
    },
    {
      "cell_type": "code",
      "source": [
        "# Evaluate the model on the test set\n",
        "test_loss = model.evaluate(X_test, y_test)\n",
        "print(f\"Test Loss: {test_loss}\")\n"
      ],
      "metadata": {
        "id": "7H5quIxtAz0f",
        "colab": {
          "base_uri": "https://localhost:8080/"
        },
        "outputId": "81724f8e-d661-4dc6-c445-78bb17d0d589"
      },
      "execution_count": 15,
      "outputs": [
        {
          "output_type": "stream",
          "name": "stdout",
          "text": [
            "\u001b[1m1/1\u001b[0m \u001b[32m━━━━━━━━━━━━━━━━━━━━\u001b[0m\u001b[37m\u001b[0m \u001b[1m0s\u001b[0m 154ms/step - loss: 163044966400.0000\n",
            "Test Loss: 163044966400.0\n"
          ]
        }
      ]
    },
    {
      "cell_type": "code",
      "source": [
        "# Test the model with new input\n",
        "new_house = np.array([[3, 1500, 10]])  # Example: 3 bedrooms, 1500 sqft, 10 years old\n",
        "predicted_price = model.predict(new_house)\n",
        "print(f\"Predicted Price for the house: ${predicted_price[0][0]:.2f}\")\n"
      ],
      "metadata": {
        "id": "Jdaryp4tA01c",
        "colab": {
          "base_uri": "https://localhost:8080/"
        },
        "outputId": "0aaaa059-4264-4bca-d616-c92bea9505a5"
      },
      "execution_count": 16,
      "outputs": [
        {
          "output_type": "stream",
          "name": "stdout",
          "text": [
            "\u001b[1m1/1\u001b[0m \u001b[32m━━━━━━━━━━━━━━━━━━━━\u001b[0m\u001b[37m\u001b[0m \u001b[1m0s\u001b[0m 73ms/step\n",
            "Predicted Price for the house: $200930.70\n"
          ]
        }
      ]
    },
    {
      "cell_type": "markdown",
      "source": [
        "**1.\tHow does the model’s performance change if you increase the number of neurons in the hidden layer to 16?**"
      ],
      "metadata": {
        "id": "qpOa-nyEk6U_"
      }
    },
    {
      "cell_type": "code",
      "source": [
        "model = tf.keras.Sequential([\n",
        "    tf.keras.layers.Dense(units=16, activation='relu', input_shape=[3]),  # Increased from 8 to 16 neurons\n",
        "    tf.keras.layers.Dense(units=1)\n",
        "])\n"
      ],
      "metadata": {
        "id": "syUcfCIXuXMw"
      },
      "execution_count": null,
      "outputs": []
    },
    {
      "cell_type": "markdown",
      "source": [
        "If we increase the number of neurons in the hidden layer from 8 to 16, the model will have more capacity to learn complex patterns in the data.\n",
        "\n",
        "Expected Effects:\n",
        "\n",
        "✅ Better performance: The model may capture relationships\n",
        "between features better.\n",
        "\n",
        "✅ Lower training loss: It may reduce the error, leading to more accurate predictions.\n",
        "\n",
        "⚠️ Risk of overfitting: If the dataset is small, the model may memorize the training data but fail on new data"
      ],
      "metadata": {
        "id": "y85s3sa-k9gR"
      }
    },
    {
      "cell_type": "markdown",
      "source": [
        "**2.\tWhat happens if you add a second hidden layer with 4 neurons? Does the loss decrease faster?**"
      ],
      "metadata": {
        "id": "RwX8oMP1lACu"
      }
    },
    {
      "cell_type": "code",
      "source": [
        "model = tf.keras.Sequential([\n",
        "    tf.keras.layers.Dense(units=8, activation='relu', input_shape=[3]),  # First hidden layer\n",
        "    tf.keras.layers.Dense(units=4, activation='relu'),  # Second hidden layer with 4 neurons\n",
        "    tf.keras.layers.Dense(units=1)\n",
        "])\n"
      ],
      "metadata": {
        "id": "ZjTraXE8upZH"
      },
      "execution_count": null,
      "outputs": []
    },
    {
      "cell_type": "markdown",
      "source": [
        "If we add another hidden layer with 4 neurons, the network becomes deeper, which can help learn more abstract patterns.\n",
        "\n",
        "Expected Effects:\n",
        "\n",
        "✅ Better learning ability: The second layer can help break down relationships into smaller patterns.\n",
        "\n",
        "✅ Faster loss reduction: A deeper network can sometimes reach lower loss in fewer epochs.\n",
        "\n",
        "⚠️ Higher computational cost: More layers = more processing time.\n",
        "\n",
        "⚠️ Diminishing returns: If the dataset is simple, a deeper network won’t necessarily improve performance."
      ],
      "metadata": {
        "id": "uTWn5OM5lFEp"
      }
    },
    {
      "cell_type": "markdown",
      "source": [
        "**3.\tWhy is the Adam optimizer used in this assignment? What advantages does it offer over SGD?**"
      ],
      "metadata": {
        "id": "eu8IusxmlGmq"
      }
    },
    {
      "cell_type": "markdown",
      "source": [
        "Adam is preferred in most deep learning problems because it converges faster and requires less tuning.\n",
        "\n",
        "\n",
        "✅ Faster convergence: Learns faster and reaches a lower loss in fewer epochs.\n",
        "\n",
        "✅ Adaptive learning rate: Adjusts the learning rate dynamically for each parameter, preventing overshooting.\n",
        "\n",
        "✅ Works well with noisy data: More stable updates even if the dataset is not perfect.\n",
        "\n",
        "✅ Momentum-based approach: Uses past gradients to smooth updates and avoid getting stuck in local minima."
      ],
      "metadata": {
        "id": "42SwiJkllKR8"
      }
    }
  ]
}